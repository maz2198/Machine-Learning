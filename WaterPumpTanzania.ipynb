{
 "cells": [
  {
   "cell_type": "markdown",
   "metadata": {},
   "source": [
    "# Water Pump Classification Group C"
   ]
  },
  {
   "cell_type": "markdown",
   "metadata": {},
   "source": [
    "###### Pump it Up: Data Mining the Water Table\n",
    "\n",
    "In Tanzania, only 57% of the population have access to safe water, and only 30% of them have the facilities to access a decent sanitation. As a consequence, people have to travel long distances to collect water and bring it to their homes. In this country, the demand for water products like tanks, pipes and rain harvesting facilities, is higher than ever.\n",
    "\n",
    "In this following analysis and considering data from Taarifa and the Tanzanian Ministry of Water, we aim at predicting the pumps that need reparation, that have stopped working and might need replacement, and those that on the contrary, are under perfect conditions. With the ultimate objective of refining the the maintenance operations ensuring high quality of the water across the country, and consequently improving the life quality of citizens in Tanzania.\n",
    "\n",
    "This document presents a feature engineering and modeling pipeline that includes:\n",
    "\n",
    "1. Exploratory Data Analysis\n",
    "2. Baseline Model\n",
    "3. Feature Engineering Strategies\n",
    "4. Model Selection\n",
    "5. CV Results and Business Interpretation\n",
    "6. Predictions and Final Score in the Data Driven Platform\n",
    "\n",
    "We have also considered alternatives previously published by different authors as referenced below:\n",
    "\n",
    "- Feature construction to generate the operational year of the water point. this new feature idea was obtained from: https://medium.com/@vaibhavshukla182/pump-it-up-data-mining-the-water-table-f903d4cfc7a8.\n",
    "\n",
    "- Feature Engineering categorization: https://zlatankr.github.io/posts/2017/01/23/pump-it-up\n",
    "\n",
    "The articulation of this project is based on the implementation of the Dataset library enriched with Pandas, Numpy and Sklearn functionalities:"
   ]
  },
  {
   "cell_type": "markdown",
   "metadata": {},
   "source": [
    "## Libraries"
   ]
  },
  {
   "cell_type": "code",
   "execution_count": 1,
   "metadata": {},
   "outputs": [],
   "source": [
    "import pandas as pd\n",
    "import numpy as np\n",
    "import matplotlib.pyplot as plt\n",
    "import warnings\n",
    "warnings.simplefilter(action='ignore')\n",
    "\n",
    "from dataset import Dataset\n",
    "from sklearn.model_selection import cross_val_score, train_test_split, GridSearchCV\n",
    "from sklearn.ensemble import BaggingClassifier, RandomForestClassifier, GradientBoostingClassifier\n",
    "from sklearn.tree import DecisionTreeRegressor, DecisionTreeClassifier, export_graphviz\n",
    "from sklearn import metrics\n",
    "from sklearn.metrics import accuracy_score, f1_score, recall_score, matthews_corrcoef, precision_score, classification_report, confusion_matrix\n",
    "from sklearn.decomposition import PCA\n",
    "from copy import copy, deepcopy\n",
    "from tqdm import tnrange, tqdm_notebook, tqdm\n",
    "from sklearn.preprocessing import MinMaxScaler"
   ]
  },
  {
   "cell_type": "markdown",
   "metadata": {},
   "source": [
    "## Data Loading"
   ]
  },
  {
   "cell_type": "code",
   "execution_count": 2,
   "metadata": {},
   "outputs": [],
   "source": [
    "train=  pd.read_csv('train.csv')  \n",
    "labels = pd.read_csv('train_labels.csv')\n",
    "test = pd.read_csv('test.csv')"
   ]
  },
  {
   "cell_type": "markdown",
   "metadata": {},
   "source": [
    "## EDA"
   ]
  },
  {
   "cell_type": "markdown",
   "metadata": {},
   "source": [
    "###### Basic data preparation highlights:\n",
    "\n",
    "-  40 explanatory variables / 1 target ('status_group')\n",
    "-  Mostly categorical variables and a couple of numerical and datetime features.\n",
    "-  +46.000 Null values along 7 categorical variables. However, numerical features have many zeros that will requiere attention.\n",
    "-  Multiple categorical variables with high cardinality, this will imply a frequency analysis to define the encoding and feature engineering strategy. \n",
    "- Redundant features containing almost the same categories or information\n",
    "- Basically we have to deal with highly correlated and under represented variables\n",
    "\n",
    "###### Dataset Balance: \n",
    "The dataset with respect to the target variable is imbalanced:  \n",
    "54% - Functional / 38% - Non Functional / 7% Functional needs repair. \n",
    "We will proceed with the multi-label clasissification approach but it's important to understand that strategies can be applied to deal with the small number of samples of the 3rd class. "
   ]
  },
  {
   "cell_type": "code",
   "execution_count": null,
   "metadata": {
    "code_folding": []
   },
   "outputs": [],
   "source": [
    "train.shape\n",
    "train.isnull().sum()\n",
    "train.isnull\n",
    "labels.status_group.value_counts()\n",
    "for i in train.columns[train.dtypes==object]:\n",
    "    train[i].value_counts().plot(kind='bar')\n",
    "    plt.title(i)\n",
    "    plt.show()"
   ]
  },
  {
   "cell_type": "code",
   "execution_count": 3,
   "metadata": {
    "scrolled": true
   },
   "outputs": [
    {
     "data": {
      "text/plain": [
       "<matplotlib.axes._subplots.AxesSubplot at 0x1a1ddfc850>"
      ]
     },
     "execution_count": 3,
     "metadata": {},
     "output_type": "execute_result"
    },
    {
     "data": {
      "image/png": "[encoded data removed]",
      "text/plain": [
       "<Figure size 1440x216 with 1 Axes>"
      ]
     },
     "metadata": {
      "needs_background": "light"
     },
     "output_type": "display_data"
    }
   ],
   "source": [
    "scaler = MinMaxScaler()\n",
    "Temp = copy(train)\n",
    "ls= Temp.columns[Temp.dtypes!=object].tolist()\n",
    "Temp[ls] = scaler.fit_transform(Temp[ls])\n",
    "Temp[ls].plot(kind='box',figsize=(20,3))"
   ]
  },
  {
   "attachments": {},
   "cell_type": "markdown",
   "metadata": {},
   "source": [
    "###### Dealing with outliers:\n",
    "\n",
    "Again, analyzing the numerical variables is important to identify the Installations that probably look different from the others and might skew the model results. Many variables were originally considered as numerical, but we’ll change them to categorical later.\n",
    "\n",
    "We payed attention to the Population, there seem to be areas with extreme values and the major concentration of samples are located in non-dense areas.\n",
    "From now on every Feature Engineering procedure will consider the outliers removal to test if the model improves."
   ]
  },
  {
   "cell_type": "markdown",
   "metadata": {},
   "source": [
    "## Cross Validation Strategy and Plot Functions\n"
   ]
  },
  {
   "cell_type": "markdown",
   "metadata": {},
   "source": [
    "The CV strategy was defined to ensure the correct model evaluation. I implemented 1 CV functions that cover:\n",
    "\n",
    "1. Randomly split into training and test  to guarantee variability.\n",
    "2. Oprimal depth of the tree and cost complexity prunning."
   ]
  },
  {
   "cell_type": "code",
   "execution_count": 4,
   "metadata": {
    "code_folding": [
     38
    ]
   },
   "outputs": [],
   "source": [
    "Classification_results = {}\n",
    "Final_Scores = pd.DataFrame(columns=['Model', 'Train_Acc','Test_Acc'])\n",
    "\n",
    "def cv_classification(X_train, X_test, y_train, y_test, estimator, verbose=False ,Report=False):\n",
    "    train_scores=[]\n",
    "    test_scores=[]\n",
    "\n",
    "    estimator.fit(X_train, y_train)\n",
    "    train_metric = cross_val_score(estimator, X_train, y_train, cv=10)\n",
    "    train_scores.append(np.mean(train_metric))\n",
    "    if verbose is True:\n",
    "        print('Avg accuracy: {:.3f} +/-{:.3f}'.format(np.mean(train_metric), np.std(train_metric)))\n",
    "      \n",
    "    y_pred = estimator.predict(X_test)\n",
    "    test_score = estimator.score(X_test, y_test)\n",
    "    test_scores.append(test_score)\n",
    "   \n",
    "    if verbose is True:\n",
    "        print('Accuracy on test: {:.3f}'.format(test_score))\n",
    "    if Report is True:\n",
    "        print(classification_report(y_test,y_pred))\n",
    "    \n",
    "    return train_scores, test_scores\n",
    "\n",
    "def plot_compare(d, label, new_training_score, new_test_score, ymin=0.50, ymax=0.99):\n",
    "    d.update({label: [np.median(new_training_score),\n",
    "                      np.median(new_test_score)]})\n",
    "    plt.figure(figsize=(8,10))\n",
    "    pd.DataFrame(d).set_index([pd.Index(['Training', 'Test'])]).plot.bar()\n",
    "    plt.ylim(ymin, ymax)\n",
    "    plt.show()\n",
    "\n",
    "def features_importance(tree, X):\n",
    "    importances = tree.feature_importances_\n",
    "    indices = np.argsort(importances)\n",
    "\n",
    "    plt.figure(figsize=(20, 10))\n",
    "    plt.title(\"Feature importances\")\n",
    "    plt.barh(range(X_train.shape[1]), importances[indices],\n",
    "             color=\"r\", align=\"center\")\n",
    "    index_names = [list(X_train)[i] for i in indices]\n",
    "    plt.yticks(range(X_train.shape[1]), index_names)\n",
    "    plt.ylim([-1, X_train.shape[1]])\n",
    "    plt.xlim([0.0, 0.8])\n",
    "    plt.show()"
   ]
  },
  {
   "cell_type": "markdown",
   "metadata": {},
   "source": [
    "## Baseline Definition"
   ]
  },
  {
   "cell_type": "markdown",
   "metadata": {},
   "source": [
    "The baseline model was generated only by droping the categorical variables mentioned in the EDA process that have a high cardinality and dummifying all the rest of categorical features. Then this dataset was shuffled and splited to be evaluated with the preivously mentioned Cross Validation function with 10 iterations. \n",
    "\n",
    "The defined validation metric is accuracy score and the result after cross validation was:  * 0.71 * for the simple tree and * 0.76 * optimizing the depth.\n",
    "\n",
    "\n",
    "\n",
    "The main problem is dealing with a highly unbalanced classes. That´s why We will pay attention later on to the classification report to understand the performance of our models in terms of precision/recall and the confusion matrix.\n",
    "\n",
    "- Precision as a meadure of confirmation(how often our model predictions are correct).\n",
    "- Recall as a measure of utility (how much our model finds what it has to find)."
   ]
  },
  {
   "cell_type": "code",
   "execution_count": 5,
   "metadata": {
    "code_folding": []
   },
   "outputs": [],
   "source": [
    "def baseline():\n",
    "    train=  pd.read_csv('train.csv')  \n",
    "    labels = pd.read_csv('train_labels.csv')\n",
    "    Data = copy(train)\n",
    "    DropCol = [\"date_recorded\", \"funder\", \"installer\", \"wpt_name\", \"subvillage\", \"ward\",\"scheme_name\", \"lga\"]\n",
    "    Data = Data.drop(DropCol, axis = 1)\n",
    "    OneHotCol = Data.columns[Data.dtypes==object]\n",
    "    Data = pd.get_dummies(Data,prefix=OneHotCol)\n",
    "    Data = pd.merge(Data, labels, on='id')\n",
    "    return Data"
   ]
  },
  {
   "cell_type": "code",
   "execution_count": 6,
   "metadata": {},
   "outputs": [],
   "source": [
    "DF = baseline()"
   ]
  },
  {
   "cell_type": "markdown",
   "metadata": {},
   "source": [
    "###### Shuffle and Split"
   ]
  },
  {
   "cell_type": "code",
   "execution_count": 7,
   "metadata": {},
   "outputs": [],
   "source": [
    "DF = DF.sample(frac=1)\n",
    "X = DF.drop(\"status_group\",axis=1)   \n",
    "y = DF[\"status_group\"]\n",
    "X_train, X_test, y_train, y_test = train_test_split(X, y, test_size=0.2)"
   ]
  },
  {
   "cell_type": "markdown",
   "metadata": {},
   "source": [
    "### Baseline Model - Simple Decision Tree"
   ]
  },
  {
   "cell_type": "markdown",
   "metadata": {},
   "source": [
    "Considering the large number of categorical variables, we considered that Tree base methods are expected to offer the best results. (Bagging, RF, XGBoost)."
   ]
  },
  {
   "cell_type": "code",
   "execution_count": 8,
   "metadata": {},
   "outputs": [
    {
     "name": "stdout",
     "output_type": "stream",
     "text": [
      "Avg accuracy: 0.712 +/-0.007\n",
      "Accuracy on test: 0.710\n"
     ]
    },
    {
     "data": {
      "text/plain": [
       "<Figure size 576x720 with 0 Axes>"
      ]
     },
     "metadata": {},
     "output_type": "display_data"
    },
    {
     "data": {
      "image/png": "[encoded data removed]",
      "text/plain": [
       "<Figure size 432x288 with 1 Axes>"
      ]
     },
     "metadata": {
      "needs_background": "light"
     },
     "output_type": "display_data"
    }
   ],
   "source": [
    "Simple_Tree = DecisionTreeClassifier(random_state=0, max_depth=5) \n",
    "cv_scores, test_scores = cv_classification(X_train, X_test, y_train, y_test,Simple_Tree,verbose=True)\n",
    "plot_compare(Classification_results,'Baseline Tree',cv_scores,test_scores)\n",
    "Final_Scores.loc[len(Final_Scores)+1] = ['Baseline Tree', cv_scores, test_scores]"
   ]
  },
  {
   "cell_type": "markdown",
   "metadata": {},
   "source": [
    "### Baseline - Optimal Tree Depth"
   ]
  },
  {
   "cell_type": "code",
   "execution_count": 9,
   "metadata": {
    "code_folding": []
   },
   "outputs": [
    {
     "data": {
      "application/vnd.jupyter.widget-view+json": {
       "model_id": "c66077bb0a544ae7bb244b26b21770b3",
       "version_major": 2,
       "version_minor": 0
      },
      "text/plain": [
       "HBox(children=(FloatProgress(value=0.0, max=29.0), HTML(value='')))"
      ]
     },
     "metadata": {},
     "output_type": "display_data"
    },
    {
     "name": "stdout",
     "output_type": "stream",
     "text": [
      "\n"
     ]
    }
   ],
   "source": [
    "min_depth = 1\n",
    "max_depth = 30\n",
    "metric_train = []\n",
    "metric_test = []\n",
    "\n",
    "for i in tqdm_notebook(range(min_depth, max_depth)):\n",
    "    Simple_Tree = DecisionTreeClassifier(random_state=0, max_depth=i) \n",
    "    train, test = cv_classification(X_train, X_test, y_train, y_test,Simple_Tree)\n",
    "    metric_train.append(np.median(train))\n",
    "    metric_test.append(np.median(test))"
   ]
  },
  {
   "cell_type": "code",
   "execution_count": 14,
   "metadata": {
    "code_folding": [
     0
    ]
   },
   "outputs": [
    {
     "data": {
      "image/png": "[encoded data removed]",
      "text/plain": [
       "<Figure size 576x360 with 1 Axes>"
      ]
     },
     "metadata": {
      "needs_background": "light"
     },
     "output_type": "display_data"
    }
   ],
   "source": [
    "pd.DataFrame(\n",
    "    {'training': metric_train, 'testing': metric_test}\n",
    ").plot(legend=True, style='o-', figsize=(8, 5),  title='Accuracy vs. Depth', ylim= (0.71,.78));"
   ]
  },
  {
   "cell_type": "code",
   "execution_count": 15,
   "metadata": {},
   "outputs": [
    {
     "name": "stdout",
     "output_type": "stream",
     "text": [
      "Avg accuracy: 0.762 +/-0.008\n",
      "Accuracy on test: 0.764\n"
     ]
    },
    {
     "data": {
      "text/plain": [
       "<Figure size 576x720 with 0 Axes>"
      ]
     },
     "metadata": {},
     "output_type": "display_data"
    },
    {
     "data": {
      "image/png": "[encoded data removed]",
      "text/plain": [
       "<Figure size 432x288 with 1 Axes>"
      ]
     },
     "metadata": {
      "needs_background": "light"
     },
     "output_type": "display_data"
    }
   ],
   "source": [
    "Simple_Tree = DecisionTreeClassifier(random_state=0, max_depth=16) \n",
    "cv_scores, test_scores = cv_classification(X_train, X_test, y_train, y_test,Simple_Tree,verbose=True)\n",
    "plot_compare(Classification_results,'Baseline Optimal',cv_scores,test_scores)\n",
    "Final_Scores.loc[len(Final_Scores)+1] = ['Baseline Optimal', cv_scores, test_scores]"
   ]
  },
  {
   "cell_type": "markdown",
   "metadata": {},
   "source": [
    "##   Feature Engineering Strategies"
   ]
  },
  {
   "attachments": {},
   "cell_type": "markdown",
   "metadata": {},
   "source": [
    "For the feature engineering process, this is the approach we followed:\n",
    "\n",
    "- Date manipulation: We extracted the month and year from the date recorded (the year recorded will be later used for a new feature creation)\n",
    "\n",
    "- Missing values imputation: We filled the missing values for some categorical features (permit, public meeting) with False for the missing data, and numerical variables (longitude, latitude, gps height, construction year, population) by calculating the mean based on grouping by the district code.\n",
    "\n",
    "- Feature creation: we created a new feature based on the construction year and recorded year to get how many years to water pump has been operational.\n",
    "\n",
    "- Dummy categories reduction: From the EDA, we saw that some categorical variables had a lot of categories that were not representative of the data, so we decided to keep the top 5 dominant categories and put the rest as other. The categorical features we changed are: (scheme management, Funder, Installer); however, funder and installer did not improve the model even after this process, so we dropped them."
   ]
  },
  {
   "cell_type": "code",
   "execution_count": 16,
   "metadata": {
    "code_folding": []
   },
   "outputs": [],
   "source": [
    "def Date_Extraction(Data):\n",
    "    Data[\"date_recorded\"] = pd.to_datetime(Data[\"date_recorded\"])\n",
    "    Data[\"year_recorded\"] =  Data[\"date_recorded\"].apply(lambda x: x.year)\n",
    "    Data[\"month_recorded\"] = Data[\"date_recorded\"].apply(lambda x: x.month)\n",
    "    Categ = [\"month_recorded\",\"year_recorded\"]\n",
    "    Data[Categ] = Data[Categ].astype(str)\n",
    "    return Data\n",
    "\n",
    "def Missing_Values(Data):\n",
    "    Data[\"permit\"] = Data[\"permit\"].fillna(False)\n",
    "    Data[\"public_meeting\"] = Data[\"public_meeting\"].fillna(False) \n",
    "    Data[Data[\"longitude\"] == 0]['latitude'] = 0\n",
    "    LongAVG = Data[Data[\"longitude\"] != 0].groupby([\"district_code\"])[\"longitude\"].mean()\n",
    "    LatAVG  = Data[Data[\"latitude\"]  != 0].groupby([\"district_code\"])[\"latitude\"].mean()\n",
    "    HeightAVG = Data[Data[\"gps_height\"] != 0].groupby([\"district_code\"])[\"gps_height\"].mean()\n",
    "    PopAVG = Data[Data[\"population\"] != 0].groupby([\"district_code\"])[\"population\"].mean()\n",
    "    ConstAVG = Data[Data[\"construction_year\"] != 0].groupby([\"district_code\"])[\"construction_year\"].mean()\n",
    "    Temp = pd.concat([LongAVG,LatAVG,HeightAVG,PopAVG,ConstAVG], axis=1)\n",
    "    Temp.columns = ['AVG_Long','AVG_Lat','AVG_Height','AVG_Pop','AVG_Const']\n",
    "    Data = pd.merge(Data, Temp, left_on=[\"district_code\"], right_index=True, how='left')\n",
    "    Data['longitude'] = np.where(Data['longitude'] == 0, Data['AVG_Long'],Data['longitude'])\n",
    "    Data['longitude'] = Data['longitude'].fillna(Data['longitude'].mean())\n",
    "    Data['latitude'] = np.where(Data['latitude'] == 0, Data['AVG_Lat'], Data['latitude'])\n",
    "    Data['latitude'] = Data['latitude'].fillna(Data['latitude'].mean())\n",
    "    Data['gps_height'] = np.where(Data['gps_height'] == 0, Data['AVG_Height'],Data['gps_height'])\n",
    "    Data['gps_height'] = Data['gps_height'].fillna(Data['gps_height'].mean())\n",
    "    Data['population'] = np.where(Data['population'] == 0, Data['AVG_Pop'],Data['population'])\n",
    "    Data['population'] = Data['population'].fillna(Data['population'].mean())\n",
    "    Data['construction_year'] = np.where(Data['construction_year'] == 0, Data['AVG_Const'],Data['construction_year'])\n",
    "    Data['construction_year'] = Data['construction_year'].fillna(Data['construction_year'].mean())\n",
    "\n",
    "    DropCol = Temp.columns.tolist()\n",
    "    Data = Data.drop(DropCol, axis = 1)\n",
    "\n",
    "    return Data\n",
    "\n",
    "def Operational_Year(Data):\n",
    "    Data['construction_yearM'] = Data['construction_year']\n",
    "    Data['operational_year'] = Data.year_recorded.astype('int64') - Data.construction_yearM\n",
    "    Data = Data.drop(['construction_yearM'], axis=1)\n",
    "    return Data\n",
    "\n",
    "def Drop_Columns(Data):    \n",
    "    DropCol = ['date_recorded','amount_tsh',  'num_private', 'region', 'quantity','quality_group', 'source_type', 'payment',\n",
    "               'waterpoint_type_group','extraction_type_group',\"funder\", \"installer\", \"wpt_name\", \"subvillage\", \n",
    "               \"ward\",\"scheme_name\", \"lga\"]    \n",
    "    Data = Data.drop(DropCol,axis=1)\n",
    "    return Data\n",
    "    \n",
    "def SchemeManagement_Categorization(Data): \n",
    "    if Data['scheme_management']=='VWC':\n",
    "        return 'vwc'\n",
    "    elif Data['scheme_management']=='WUG':\n",
    "        return 'wug'\n",
    "    elif Data['scheme_management']=='Water authority':\n",
    "        return 'water_authority'\n",
    "    elif Data['scheme_management']=='WUA':\n",
    "        return 'wua'\n",
    "    elif Data['scheme_management']=='Water Board':\n",
    "        return 'water_board'\n",
    "    else:\n",
    "        return 'other'\n",
    "    \n",
    "def Funder_Categorization(Data):  \n",
    "    if Data['funder']=='Government Of Tanzania':\n",
    "        return 'govern'\n",
    "    elif Data['funder']=='Danida':\n",
    "        return 'danida'\n",
    "    elif Data['funder']=='Hesawa':\n",
    "        return 'hesawa'\n",
    "    elif Data['funder']=='Rwssp':\n",
    "        return 'rwssp'\n",
    "    elif Data['funder']=='World Bank':\n",
    "        return 'world_bank'    \n",
    "    else:\n",
    "        return 'other'\n",
    "    \n",
    "def Installer_Categorization(Data):\n",
    "    if Data['installer']=='DWE':\n",
    "        return 'dwe'\n",
    "    elif Data['installer']=='Government':\n",
    "        return 'government'\n",
    "    elif Data['installer']=='RWE':\n",
    "        return 'rwe'\n",
    "    elif Data['installer']=='Commu':\n",
    "        return 'commu'\n",
    "    elif Data['installer']=='DANIDA':\n",
    "        return 'danida'\n",
    "    else:\n",
    "        return 'other'      \n",
    "    \n",
    "def FE1():\n",
    "    train =  pd.read_csv('train.csv')  \n",
    "    labels = pd.read_csv('train_labels.csv')\n",
    "    Data = copy(train)\n",
    "    Data= Date_Extraction(Data)\n",
    "    Data= Missing_Values(Data)\n",
    "    Data['scheme_management'] = Data.apply(lambda row: SchemeManagement_Categorization(row), axis=1)\n",
    "    Data = Operational_Year(Data)\n",
    "    Data = Drop_Columns(Data)  \n",
    "    Categ = [\"district_code\",\"region_code\"]\n",
    "    Data[Categ] = Data[Categ].astype(str)\n",
    "    OneHotCol = Data.columns[Data.dtypes==object]\n",
    "    Data = pd.get_dummies(Data,prefix=OneHotCol)\n",
    "    Data = pd.merge(Data, labels, on='id')\n",
    "    Data = Data.drop(['id'],axis=1)\n",
    "    return Data"
   ]
  },
  {
   "cell_type": "code",
   "execution_count": 17,
   "metadata": {},
   "outputs": [],
   "source": [
    "DF = FE1()"
   ]
  },
  {
   "cell_type": "markdown",
   "metadata": {},
   "source": [
    "###### Shuffle and Split"
   ]
  },
  {
   "cell_type": "code",
   "execution_count": 18,
   "metadata": {},
   "outputs": [],
   "source": [
    "DF = DF.sample(frac=1)\n",
    "X = DF.drop(\"status_group\",axis=1)   \n",
    "y = DF[\"status_group\"]\n",
    "X_train, X_test, y_train, y_test = train_test_split(X, y, test_size=0.2)"
   ]
  },
  {
   "cell_type": "markdown",
   "metadata": {},
   "source": [
    "## Modeling"
   ]
  },
  {
   "cell_type": "markdown",
   "metadata": {},
   "source": [
    "After applying many feature transformations, extraction and creation ideas, we evaluated the improvements with:\n",
    "\n",
    "- Decision Tree:\n",
    "    - Decision Tree + CV\n",
    "    - Decision Tree Depth Optimization + CV\n",
    "    \n",
    "- Bagging \n",
    " \n",
    "- Random Forest:\n",
    "    - Random Forest + CV \n",
    "    - Random Forest Parameter Optimization + CV\n",
    "    \n",
    "- Principal Components Analysis + Random Forest + CV "
   ]
  },
  {
   "cell_type": "markdown",
   "metadata": {},
   "source": [
    "### Feature Engineering - Simple Decision Tree"
   ]
  },
  {
   "cell_type": "code",
   "execution_count": 19,
   "metadata": {},
   "outputs": [
    {
     "name": "stdout",
     "output_type": "stream",
     "text": [
      "Avg accuracy: 0.767 +/-0.006\n",
      "Accuracy on test: 0.760\n"
     ]
    },
    {
     "data": {
      "text/plain": [
       "<Figure size 576x720 with 0 Axes>"
      ]
     },
     "metadata": {},
     "output_type": "display_data"
    },
    {
     "data": {
      "image/png": "[encoded data removed]",
      "text/plain": [
       "<Figure size 432x288 with 1 Axes>"
      ]
     },
     "metadata": {
      "needs_background": "light"
     },
     "output_type": "display_data"
    }
   ],
   "source": [
    "Simple_Tree = DecisionTreeClassifier(random_state=0, max_depth=16) \n",
    "cv_scores, test_scores = cv_classification(X_train, X_test, y_train, y_test,Simple_Tree,verbose=True)\n",
    "plot_compare(Classification_results,'FE Tree',cv_scores,test_scores)\n",
    "Final_Scores.loc[len(Final_Scores)+1] = ['FE Tree', cv_scores, test_scores]"
   ]
  },
  {
   "cell_type": "markdown",
   "metadata": {},
   "source": [
    "### Feature Engineering - Optimal Tree Depth"
   ]
  },
  {
   "cell_type": "code",
   "execution_count": 20,
   "metadata": {},
   "outputs": [
    {
     "data": {
      "application/vnd.jupyter.widget-view+json": {
       "model_id": "7ee4e39955c8429ca054fde0dbe085a5",
       "version_major": 2,
       "version_minor": 0
      },
      "text/plain": [
       "HBox(children=(FloatProgress(value=0.0, max=29.0), HTML(value='')))"
      ]
     },
     "metadata": {},
     "output_type": "display_data"
    },
    {
     "name": "stdout",
     "output_type": "stream",
     "text": [
      "\n"
     ]
    }
   ],
   "source": [
    "min_depth = 1\n",
    "max_depth = 30\n",
    "metric_train = []\n",
    "metric_test = []\n",
    "\n",
    "for i in tqdm_notebook(range(min_depth, max_depth)):\n",
    "    Simple_Tree = DecisionTreeClassifier(random_state=0, max_depth=i) \n",
    "    train, test = cv_classification(X_train, X_test, y_train, y_test,Simple_Tree)\n",
    "    metric_train.append(np.median(train))\n",
    "    metric_test.append(np.median(test))"
   ]
  },
  {
   "cell_type": "code",
   "execution_count": 27,
   "metadata": {
    "code_folding": []
   },
   "outputs": [
    {
     "data": {
      "image/png": "[encoded data removed]",
      "text/plain": [
       "<Figure size 576x360 with 1 Axes>"
      ]
     },
     "metadata": {
      "needs_background": "light"
     },
     "output_type": "display_data"
    }
   ],
   "source": [
    "pd.DataFrame(\n",
    "    {'training': metric_train, 'testing': metric_test}\n",
    ").plot(legend=True, style='o-', figsize=(8, 5),  title='Accuracy vs. Depth', ylim= (0.74,.78));"
   ]
  },
  {
   "cell_type": "code",
   "execution_count": 28,
   "metadata": {},
   "outputs": [
    {
     "name": "stdout",
     "output_type": "stream",
     "text": [
      "Avg accuracy: 0.770 +/-0.007\n",
      "Accuracy on test: 0.763\n"
     ]
    },
    {
     "data": {
      "text/plain": [
       "<Figure size 576x720 with 0 Axes>"
      ]
     },
     "metadata": {},
     "output_type": "display_data"
    },
    {
     "data": {
      "image/png": "[encoded data removed]",
      "text/plain": [
       "<Figure size 432x288 with 1 Axes>"
      ]
     },
     "metadata": {
      "needs_background": "light"
     },
     "output_type": "display_data"
    }
   ],
   "source": [
    "Simple_Tree = DecisionTreeClassifier(random_state=0, max_depth=19) \n",
    "cv_scores, test_scores = cv_classification(X_train, X_test, y_train, y_test,Simple_Tree,verbose=True)\n",
    "plot_compare(Classification_results,'FE Optimal',cv_scores,test_scores)\n",
    "Final_Scores.loc[len(Final_Scores)+1] = ['FE Optimal', cv_scores, test_scores]"
   ]
  },
  {
   "cell_type": "markdown",
   "metadata": {},
   "source": [
    "### Feature Engineering - Bagging"
   ]
  },
  {
   "cell_type": "code",
   "execution_count": 29,
   "metadata": {},
   "outputs": [
    {
     "name": "stdout",
     "output_type": "stream",
     "text": [
      "Avg accuracy: 0.803 +/-0.006\n",
      "Accuracy on test: 0.800\n"
     ]
    },
    {
     "data": {
      "text/plain": [
       "<Figure size 576x720 with 0 Axes>"
      ]
     },
     "metadata": {},
     "output_type": "display_data"
    },
    {
     "data": {
      "image/png": "[encoded data removed]",
      "text/plain": [
       "<Figure size 432x288 with 1 Axes>"
      ]
     },
     "metadata": {
      "needs_background": "light"
     },
     "output_type": "display_data"
    }
   ],
   "source": [
    "bagging = BaggingClassifier(DecisionTreeClassifier(max_depth=19),n_estimators=100,\n",
    "                            max_samples=0.5, oob_score=True, random_state=1, n_jobs=-1)\n",
    "\n",
    "cv_scores, test_scores = cv_classification(X_train, X_test, y_train, y_test,bagging,verbose=True)\n",
    "\n",
    "plot_compare(Classification_results,'FE Bagging',cv_scores,test_scores)\n",
    "Final_Scores.loc[len(Final_Scores)+1] = ['FE Bagging', cv_scores, test_scores]"
   ]
  },
  {
   "cell_type": "markdown",
   "metadata": {},
   "source": [
    "### Feature Engineering - Random Forest"
   ]
  },
  {
   "cell_type": "code",
   "execution_count": 30,
   "metadata": {},
   "outputs": [
    {
     "name": "stdout",
     "output_type": "stream",
     "text": [
      "Avg accuracy: 0.802 +/-0.004\n",
      "Accuracy on test: 0.799\n"
     ]
    },
    {
     "data": {
      "text/plain": [
       "<Figure size 576x720 with 0 Axes>"
      ]
     },
     "metadata": {},
     "output_type": "display_data"
    },
    {
     "data": {
      "image/png": "[encoded data removed]",
      "text/plain": [
       "<Figure size 432x288 with 1 Axes>"
      ]
     },
     "metadata": {
      "needs_background": "light"
     },
     "output_type": "display_data"
    }
   ],
   "source": [
    "RF = RandomForestClassifier(criterion= 'gini',n_estimators=100, max_features='auto',\n",
    "                            oob_score = True, random_state=1, n_jobs = -1)\n",
    "\n",
    "cv_scores, test_scores = cv_classification(X_train, X_test, y_train, y_test,RF,verbose=True)\n",
    "\n",
    "plot_compare(Classification_results,'FE RF',cv_scores,test_scores)\n",
    "Final_Scores.loc[len(Final_Scores)+1] = ['FE RF', cv_scores, test_scores]"
   ]
  },
  {
   "cell_type": "markdown",
   "metadata": {},
   "source": [
    "### Feature Engineering - Random Forest - Parameter Optimization"
   ]
  },
  {
   "cell_type": "code",
   "execution_count": null,
   "metadata": {},
   "outputs": [],
   "source": [
    "parameters = {\"min_samples_split\": [3, 5, 7],\"min_samples_leaf\": [3, 5, 7],\"n_estimators\" : [400, 500, 700]}\n",
    "\n",
    "RF = RandomForestClassifier(criterion= 'gini',n_estimators=500, max_features='auto',\n",
    "                            oob_score = True, random_state=1, n_jobs = -1)\n",
    "\n",
    "grid_rf = GridSearchCV(RF, parameters, cv=10, n_jobs=-1)\n",
    "grid_rf.fit(X_train, y_train)\n",
    "score = grid_rf.score(X_train, y_train)\n",
    "best_params = grid_rf.best_params_\n",
    "print('Score: {:.4f}'.format(score))\n",
    "print('Best Params:\\n{}'.format(best_params))"
   ]
  },
  {
   "cell_type": "code",
   "execution_count": 31,
   "metadata": {},
   "outputs": [
    {
     "name": "stdout",
     "output_type": "stream",
     "text": [
      "Avg accuracy: 0.806 +/-0.006\n",
      "Accuracy on test: 0.801\n",
      "                         precision    recall  f1-score   support\n",
      "\n",
      "             functional       0.78      0.92      0.84      6411\n",
      "functional needs repair       0.64      0.24      0.35       897\n",
      "         non functional       0.86      0.75      0.80      4572\n",
      "\n",
      "               accuracy                           0.80     11880\n",
      "              macro avg       0.76      0.63      0.66     11880\n",
      "           weighted avg       0.80      0.80      0.79     11880\n",
      "\n"
     ]
    },
    {
     "data": {
      "text/plain": [
       "<Figure size 576x720 with 0 Axes>"
      ]
     },
     "metadata": {},
     "output_type": "display_data"
    },
    {
     "data": {
      "image/png": "[encoded data removed]",
      "text/plain": [
       "<Figure size 432x288 with 1 Axes>"
      ]
     },
     "metadata": {
      "needs_background": "light"
     },
     "output_type": "display_data"
    }
   ],
   "source": [
    "RF = RandomForestClassifier(criterion= 'gini',n_estimators=700,min_samples_leaf= 3, min_samples_split = 3,\n",
    "                            max_features='auto',oob_score = True, random_state=1,n_jobs = -1)\n",
    "\n",
    "cv_scores, test_scores = cv_classification(X_train, X_test, y_train, y_test,RF,verbose=True, Report=True)\n",
    "\n",
    "plot_compare(Classification_results,'FE RF Optimized',cv_scores,test_scores)\n",
    "Final_Scores.loc[len(Final_Scores)+1] = ['FE RF Optimized', cv_scores, test_scores]"
   ]
  },
  {
   "cell_type": "markdown",
   "metadata": {},
   "source": [
    "## Principal Component Analysis"
   ]
  },
  {
   "cell_type": "code",
   "execution_count": 33,
   "metadata": {},
   "outputs": [],
   "source": [
    "pca = PCA(.95)\n",
    "Principal_Components = pca.fit_transform(X_train)\n",
    "X_trainPCA = pca.transform(X_train)\n",
    "X_testPCA = pca.transform(X_test)\n",
    "DF2 = pd.DataFrame(data = Principal_Components)"
   ]
  },
  {
   "cell_type": "code",
   "execution_count": 35,
   "metadata": {},
   "outputs": [
    {
     "name": "stdout",
     "output_type": "stream",
     "text": [
      "Avg accuracy: 0.612 +/-0.006\n",
      "Accuracy on test: 0.616\n"
     ]
    },
    {
     "data": {
      "text/plain": [
       "<Figure size 576x720 with 0 Axes>"
      ]
     },
     "metadata": {},
     "output_type": "display_data"
    },
    {
     "data": {
      "image/png": "[encoded data removed]",
      "text/plain": [
       "<Figure size 432x288 with 1 Axes>"
      ]
     },
     "metadata": {
      "needs_background": "light"
     },
     "output_type": "display_data"
    }
   ],
   "source": [
    "RF = RandomForestClassifier(criterion= 'gini',n_estimators=700,min_samples_leaf= 3, min_samples_split = 3,\n",
    "                            max_features='auto',oob_score = True, random_state=1,n_jobs = -1)\n",
    "\n",
    "cv_scores, test_scores = cv_classification(X_trainPCA, X_testPCA, y_train, y_test, RF, verbose = True)\n",
    "\n",
    "plot_compare(Classification_results,'PCA RF',cv_scores,test_scores)\n",
    "Final_Scores.loc[len(Final_Scores)+1] = ['PCA RF', cv_scores, test_scores]"
   ]
  },
  {
   "cell_type": "markdown",
   "metadata": {},
   "source": [
    "## Results and Business Interpretetation"
   ]
  },
  {
   "cell_type": "code",
   "execution_count": 36,
   "metadata": {},
   "outputs": [
    {
     "data": {
      "text/html": [
       "<div>\n",
       "<style scoped>\n",
       "    .dataframe tbody tr th:only-of-type {\n",
       "        vertical-align: middle;\n",
       "    }\n",
       "\n",
       "    .dataframe tbody tr th {\n",
       "        vertical-align: top;\n",
       "    }\n",
       "\n",
       "    .dataframe thead th {\n",
       "        text-align: right;\n",
       "    }\n",
       "</style>\n",
       "<table border=\"1\" class=\"dataframe\">\n",
       "  <thead>\n",
       "    <tr style=\"text-align: right;\">\n",
       "      <th></th>\n",
       "      <th>Model</th>\n",
       "      <th>Train_Acc</th>\n",
       "      <th>Test_Acc</th>\n",
       "    </tr>\n",
       "  </thead>\n",
       "  <tbody>\n",
       "    <tr>\n",
       "      <th>1</th>\n",
       "      <td>Baseline Tree</td>\n",
       "      <td>[0.7121632996632997]</td>\n",
       "      <td>[0.7102693602693603]</td>\n",
       "    </tr>\n",
       "    <tr>\n",
       "      <th>2</th>\n",
       "      <td>Baseline Optimal</td>\n",
       "      <td>[0.7624789562289562]</td>\n",
       "      <td>[0.7638888888888888]</td>\n",
       "    </tr>\n",
       "    <tr>\n",
       "      <th>3</th>\n",
       "      <td>FE Tree</td>\n",
       "      <td>[0.7670454545454545]</td>\n",
       "      <td>[0.7595959595959596]</td>\n",
       "    </tr>\n",
       "    <tr>\n",
       "      <th>4</th>\n",
       "      <td>FE Optimal</td>\n",
       "      <td>[0.7698232323232322]</td>\n",
       "      <td>[0.7626262626262627]</td>\n",
       "    </tr>\n",
       "    <tr>\n",
       "      <th>5</th>\n",
       "      <td>FE Bagging</td>\n",
       "      <td>[0.8034511784511784]</td>\n",
       "      <td>[0.8001683501683502]</td>\n",
       "    </tr>\n",
       "    <tr>\n",
       "      <th>6</th>\n",
       "      <td>FE RF</td>\n",
       "      <td>[0.8024831649831651]</td>\n",
       "      <td>[0.7987373737373737]</td>\n",
       "    </tr>\n",
       "    <tr>\n",
       "      <th>7</th>\n",
       "      <td>FE RF Optimized</td>\n",
       "      <td>[0.805513468013468]</td>\n",
       "      <td>[0.8012626262626262]</td>\n",
       "    </tr>\n",
       "    <tr>\n",
       "      <th>8</th>\n",
       "      <td>PCA RF</td>\n",
       "      <td>[0.6120580808080809]</td>\n",
       "      <td>[0.6164141414141414]</td>\n",
       "    </tr>\n",
       "  </tbody>\n",
       "</table>\n",
       "</div>"
      ],
      "text/plain": [
       "              Model             Train_Acc              Test_Acc\n",
       "1     Baseline Tree  [0.7121632996632997]  [0.7102693602693603]\n",
       "2  Baseline Optimal  [0.7624789562289562]  [0.7638888888888888]\n",
       "3           FE Tree  [0.7670454545454545]  [0.7595959595959596]\n",
       "4        FE Optimal  [0.7698232323232322]  [0.7626262626262627]\n",
       "5        FE Bagging  [0.8034511784511784]  [0.8001683501683502]\n",
       "6             FE RF  [0.8024831649831651]  [0.7987373737373737]\n",
       "7   FE RF Optimized   [0.805513468013468]  [0.8012626262626262]\n",
       "8            PCA RF  [0.6120580808080809]  [0.6164141414141414]"
      ]
     },
     "execution_count": 36,
     "metadata": {},
     "output_type": "execute_result"
    }
   ],
   "source": [
    "Final_Scores"
   ]
  },
  {
   "attachments": {},
   "cell_type": "markdown",
   "metadata": {},
   "source": [
    "###### Model Results:\n",
    "After several iterations over different feature engineering methods, we were able to outperform the baseline model with a complete data pipeline strategy that allowed our model to achieve a *0.809* accuracy score. \n",
    "\n",
    "The main highlights of this process are:\n",
    "1. The Random Forest after executing Grid Search to get the best Parameters and after a cross validation process generated the best result. \n",
    "2. The input for this RF was the result of a complete feature engineering pipeline considering more than 8 feature manipulation, creation and extraction strategies defined as functions in this analysis. The encoding strategy was a One-Hot for categorical features.\n",
    "\n",
    "###### Business Interpretation:\n",
    "\n",
    "Predicting the functionality of the pump water wells can optimize both planning and relief efforts within an area. Also applying distance-based methods, we can maybe shutdown some pumps which may not be functional and may repurpose existing pumps to accommodate a greater population and area.\n",
    "\n",
    "Understanding the final classification report of our model we can expect:\n",
    "\n",
    "###### Functional pumps:\n",
    "    - Recall (92%) = We are missing 8% of the pumps that are functional when predicting them with model.\n",
    "    - Precision (78%) = In 22% of the cases we are including false predictions of pumps that we predict as functional.\n",
    "\n",
    "###### NON-Functional pumps:\n",
    "    - Recall (86%) = We are missing 14% of the pumps that are Not working when predicting them.\n",
    "    - Precision (75%) = In 25% of the cases we predict Non-Functional are false predictions.\n",
    "\n",
    "###### Functional REPAIR:\n",
    "    Our model had a hard time capturing this class:\n",
    "    - Recall (24%) - Precision (35%)\n",
    "\n",
    "Basically, we are better classifying this problem as a binary situation for Functional and Non-Functional Pumps. This can be improved combining different techniques to deal with imbalanced datasets and better optimized ensemble methods.\n"
   ]
  },
  {
   "cell_type": "markdown",
   "metadata": {},
   "source": [
    "## Predictions"
   ]
  },
  {
   "cell_type": "code",
   "execution_count": 37,
   "metadata": {
    "code_folding": []
   },
   "outputs": [],
   "source": [
    "def Final_Train():\n",
    "    train =  pd.read_csv('train.csv')  \n",
    "    labels = pd.read_csv('train_labels.csv')\n",
    "    Data = copy(train)\n",
    "    Data= Date_Extraction(Data)\n",
    "    Data= Missing_Values(Data)\n",
    "    Data['scheme_management'] = Data.apply(lambda row: SchemeManagement_Categorization(row), axis=1)\n",
    "    Data = Operational_Year(Data)\n",
    "    Data = Drop_Columns(Data)  \n",
    "    Categ = [\"district_code\",\"region_code\"]\n",
    "    Data[Categ] = Data[Categ].astype(str)\n",
    "    Data = pd.merge(Data, labels, on='id')\n",
    "    Data = Data.drop(['id'],axis=1)\n",
    "    return Data\n",
    "\n",
    "def Final_Test():\n",
    "    test =  pd.read_csv('test.csv')  \n",
    "    Data = copy(test)\n",
    "    Data= Date_Extraction(Data)\n",
    "    Data= Missing_Values(Data)\n",
    "    Data['scheme_management'] = Data.apply(lambda row: SchemeManagement_Categorization(row), axis=1)\n",
    "    Data = Operational_Year(Data)\n",
    "    Data = Drop_Columns(Data)  \n",
    "    Categ = [\"district_code\",\"region_code\"]\n",
    "    Data[Categ] = Data[Categ].astype(str)\n",
    "    Data = Data.drop(['id'],axis=1)\n",
    "    return Data\n",
    "    \n",
    "def Encoding(Data):\n",
    "    OneHotCol = Data.columns[Data.dtypes==object]\n",
    "    Data = pd.get_dummies(Data,prefix=OneHotCol)\n",
    "    return Data    "
   ]
  },
  {
   "cell_type": "code",
   "execution_count": 38,
   "metadata": {},
   "outputs": [],
   "source": [
    "Submission = pd.read_csv('SubmissionFormat.csv')\n",
    "Train = Final_Train()\n",
    "Test  = Final_Test()\n",
    "\n",
    "X = Train.drop(\"status_group\",axis=1)   \n",
    "y_train = Train[\"status_group\"]\n",
    "\n",
    "Complete= pd.concat([X,Test])\n",
    "Complete= Encoding(Complete)\n",
    "\n",
    "X_train = Complete.iloc[0:59400]\n",
    "X_test  = Complete.iloc[59400:]\n",
    "\n",
    "RF = RandomForestClassifier(criterion= 'gini',n_estimators=700,min_samples_leaf= 3, min_samples_split = 3,\n",
    "                            max_features='auto',oob_score = True, random_state=1,n_jobs = -1)\n",
    "RF.fit(X_train, y_train)\n",
    "y_pred = RF.predict(X_test)\n",
    "\n",
    "Submission['status_group']= y_pred\n",
    "Submission.to_csv(\"Final_Submission.csv\", index = False)"
   ]
  },
  {
   "cell_type": "markdown",
   "metadata": {},
   "source": [
    "### Final Score - Data Driven"
   ]
  },
  {
   "cell_type": "markdown",
   "metadata": {},
   "source": [
    "After uploading our Test Predictions to Data Driven, the system scored our model with an acuracy of: \n",
    "###### *0.8147*\n",
    "\n",
    "This results can be verified with the user: \n",
    "###### diegoct6"
   ]
  }
 ],
 "metadata": {
  "kernelspec": {
   "display_name": "Python 3",
   "language": "python",
   "name": "python3"
  },
  "language_info": {
   "codemirror_mode": {
    "name": "ipython",
    "version": 3
   },
   "file_extension": ".py",
   "mimetype": "text/x-python",
   "name": "python",
   "nbconvert_exporter": "python",
   "pygments_lexer": "ipython3",
   "version": "3.7.6"
  },
  "toc": {
   "base_numbering": 1,
   "nav_menu": {},
   "number_sections": true,
   "sideBar": true,
   "skip_h1_title": false,
   "title_cell": "Table of Contents",
   "title_sidebar": "Contents",
   "toc_cell": false,
   "toc_position": {},
   "toc_section_display": true,
   "toc_window_display": true
  }
 },
 "nbformat": 4,
 "nbformat_minor": 2
}
